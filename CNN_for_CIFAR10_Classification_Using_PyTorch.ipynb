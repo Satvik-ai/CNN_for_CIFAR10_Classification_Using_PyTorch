{
  "cells": [
    {
      "cell_type": "code",
      "execution_count": 17,
      "metadata": {
        "id": "OMDH0uAnhxTj"
      },
      "outputs": [],
      "source": [
        "# Importing Libraries\n",
        "import torch\n",
        "import torch.nn as nn\n",
        "import torch.nn.functional as F\n",
        "import torchvision\n",
        "import torchvision.transforms as transforms\n",
        "import matplotlib.pyplot as plt\n",
        "import numpy as np\n",
        "from sklearn.metrics import classification_report"
      ]
    },
    {
      "cell_type": "code",
      "execution_count": 2,
      "metadata": {
        "id": "TAuP2KpLity8"
      },
      "outputs": [],
      "source": [
        "# Device configuration\n",
        "device = torch.device('cuda' if torch.cuda.is_available() else 'cpu')"
      ]
    },
    {
      "cell_type": "code",
      "execution_count": 3,
      "metadata": {
        "id": "sWOTZHlWiwTO"
      },
      "outputs": [],
      "source": [
        "# Hyper-parameters\n",
        "num_epochs = 5\n",
        "batch_size = 4\n",
        "learning_rate = 0.001"
      ]
    },
    {
      "cell_type": "code",
      "execution_count": 4,
      "metadata": {
        "id": "TyZgp2qBiz-0"
      },
      "outputs": [],
      "source": [
        "# dataset has PILImage images of range [0, 1].\n",
        "# We transform them to Tensors of normalized range [-1, 1]\n",
        "transform = transforms.Compose(\n",
        "    [transforms.ToTensor(),\n",
        "     transforms.Normalize((0.5, 0.5, 0.5), (0.5, 0.5, 0.5))])"
      ]
    },
    {
      "cell_type": "code",
      "execution_count": 5,
      "metadata": {
        "colab": {
          "base_uri": "https://localhost:8080/"
        },
        "id": "ybdaazGIi7u2",
        "outputId": "d18c0e9a-70b9-4c2f-c165-bc4765d56a77"
      },
      "outputs": [
        {
          "name": "stderr",
          "output_type": "stream",
          "text": [
            "100%|██████████| 170M/170M [00:01<00:00, 92.6MB/s]\n"
          ]
        }
      ],
      "source": [
        "# CIFAR10: 60000 32x32 color images in 10 classes, with 6000 images per class\n",
        "train_dataset = torchvision.datasets.CIFAR10(root='./data', train=True,\n",
        "                                        download=True, transform=transform)\n",
        "\n",
        "test_dataset = torchvision.datasets.CIFAR10(root='./data', train=False,\n",
        "                                       download=True, transform=transform)"
      ]
    },
    {
      "cell_type": "code",
      "execution_count": 6,
      "metadata": {
        "id": "brtQe6bljBU7"
      },
      "outputs": [],
      "source": [
        "train_loader = torch.utils.data.DataLoader(train_dataset, batch_size=batch_size,\n",
        "                                          shuffle=True)\n",
        "\n",
        "test_loader = torch.utils.data.DataLoader(test_dataset, batch_size=batch_size,\n",
        "                                         shuffle=False)"
      ]
    },
    {
      "cell_type": "code",
      "execution_count": 7,
      "metadata": {
        "id": "tdBTw1ovjD5J"
      },
      "outputs": [],
      "source": [
        "classes = ('plane', 'car', 'bird', 'cat',\n",
        "           'deer', 'dog', 'frog', 'horse', 'ship', 'truck')"
      ]
    },
    {
      "cell_type": "code",
      "execution_count": 8,
      "metadata": {
        "id": "7qHk_3l9jGIp"
      },
      "outputs": [],
      "source": [
        "def imshow(img):\n",
        "    img = img / 2 + 0.5  # unnormalize\n",
        "    npimg = img.numpy()\n",
        "    plt.imshow(np.transpose(npimg, (1, 2, 0)))\n",
        "    plt.show()"
      ]
    },
    {
      "cell_type": "code",
      "execution_count": 9,
      "metadata": {
        "colab": {
          "base_uri": "https://localhost:8080/",
          "height": 193
        },
        "id": "s4s5Lz7WjJkr",
        "outputId": "ade3dc63-ca51-4402-f581-f4e22f6e9f45"
      },
      "outputs": [
        {
          "data": {
            "image/png": "[encoded data removed]",
            "text/plain": [
              "<Figure size 640x480 with 1 Axes>"
            ]
          },
          "metadata": {},
          "output_type": "display_data"
        }
      ],
      "source": [
        "# get some random training images\n",
        "dataiter = iter(train_loader)\n",
        "images, labels = next(dataiter)\n",
        "\n",
        "# show images\n",
        "imshow(torchvision.utils.make_grid(images))"
      ]
    },
    {
      "cell_type": "code",
      "execution_count": 10,
      "metadata": {
        "id": "DdOWdaskjM1I"
      },
      "outputs": [],
      "source": [
        "# CNN Model\n",
        "class ConvNet(nn.Module):\n",
        "    def __init__(self):\n",
        "        super(ConvNet, self).__init__()\n",
        "        self.conv1 = nn.Conv2d(3, 6, 5)       # 3 input filters, 6 output filters, kernel size of 5x5\n",
        "        self.pool = nn.MaxPool2d(2, 2)        # kernel size of 2x2, stride of 2\n",
        "        self.conv2 = nn.Conv2d(6, 16, 5)      # 6 input filters, 16 output filters, kernel size of 5x5\n",
        "        self.fc1 = nn.Linear(16 * 5 * 5, 120) # 16*5*5 input features, 120 output features\n",
        "        self.fc2 = nn.Linear(120, 84)\n",
        "        self.fc3 = nn.Linear(84, 10)\n",
        "\n",
        "    def forward(self, x):\n",
        "        # -> n, 3, 32, 32\n",
        "        x = self.pool(F.relu(self.conv1(x)))  # -> n, 6, 14, 14\n",
        "        x = self.pool(F.relu(self.conv2(x)))  # -> n, 16, 5, 5\n",
        "        x = x.view(-1, 16 * 5 * 5)            # -> n, 400\n",
        "        x = F.relu(self.fc1(x))               # -> n, 120\n",
        "        x = F.relu(self.fc2(x))               # -> n, 84\n",
        "        x = self.fc3(x)                       # -> n, 10\n",
        "        return x"
      ]
    },
    {
      "cell_type": "code",
      "execution_count": 11,
      "metadata": {
        "id": "RR5uGbOPjRe9"
      },
      "outputs": [],
      "source": [
        "model = ConvNet().to(device)"
      ]
    },
    {
      "cell_type": "code",
      "execution_count": 12,
      "metadata": {
        "id": "3qQnB-TajTbz"
      },
      "outputs": [],
      "source": [
        "criterion = nn.CrossEntropyLoss()\n",
        "optimizer = torch.optim.SGD(model.parameters(), lr=learning_rate)"
      ]
    },
    {
      "cell_type": "code",
      "execution_count": 13,
      "metadata": {
        "colab": {
          "base_uri": "https://localhost:8080/"
        },
        "id": "02x3xWNwjVfu",
        "outputId": "35fefb40-5750-48ea-c78c-81020ee753f2"
      },
      "outputs": [
        {
          "name": "stdout",
          "output_type": "stream",
          "text": [
            "Epoch [1/5], Step [2000/12500], Loss: 2.2944\n",
            "Epoch [1/5], Step [4000/12500], Loss: 2.2952\n",
            "Epoch [1/5], Step [6000/12500], Loss: 2.2936\n",
            "Epoch [1/5], Step [8000/12500], Loss: 2.3049\n",
            "Epoch [1/5], Step [10000/12500], Loss: 2.2917\n",
            "Epoch [1/5], Step [12000/12500], Loss: 2.3031\n",
            "Epoch [2/5], Step [2000/12500], Loss: 2.2688\n",
            "Epoch [2/5], Step [4000/12500], Loss: 1.8893\n",
            "Epoch [2/5], Step [6000/12500], Loss: 2.2764\n",
            "Epoch [2/5], Step [8000/12500], Loss: 1.6315\n",
            "Epoch [2/5], Step [10000/12500], Loss: 1.7247\n",
            "Epoch [2/5], Step [12000/12500], Loss: 1.7408\n",
            "Epoch [3/5], Step [2000/12500], Loss: 2.4158\n",
            "Epoch [3/5], Step [4000/12500], Loss: 1.9704\n",
            "Epoch [3/5], Step [6000/12500], Loss: 2.3314\n",
            "Epoch [3/5], Step [8000/12500], Loss: 1.0667\n",
            "Epoch [3/5], Step [10000/12500], Loss: 1.3469\n",
            "Epoch [3/5], Step [12000/12500], Loss: 1.4324\n",
            "Epoch [4/5], Step [2000/12500], Loss: 2.2861\n",
            "Epoch [4/5], Step [4000/12500], Loss: 1.1038\n",
            "Epoch [4/5], Step [6000/12500], Loss: 1.0422\n",
            "Epoch [4/5], Step [8000/12500], Loss: 1.2402\n",
            "Epoch [4/5], Step [10000/12500], Loss: 1.0750\n",
            "Epoch [4/5], Step [12000/12500], Loss: 0.8150\n",
            "Epoch [5/5], Step [2000/12500], Loss: 1.2382\n",
            "Epoch [5/5], Step [4000/12500], Loss: 1.4845\n",
            "Epoch [5/5], Step [6000/12500], Loss: 1.5883\n",
            "Epoch [5/5], Step [8000/12500], Loss: 1.3865\n",
            "Epoch [5/5], Step [10000/12500], Loss: 1.4926\n",
            "Epoch [5/5], Step [12000/12500], Loss: 1.4152\n"
          ]
        }
      ],
      "source": [
        "n_total_steps = len(train_loader)\n",
        "for epoch in range(num_epochs):\n",
        "    for i, (images, labels) in enumerate(train_loader):\n",
        "        # origin shape: [4, 3, 32, 32] = 4, 3, 1024\n",
        "        # input_layer: 3 input channels, 6 output channels, 5 kernel size\n",
        "        images = images.to(device)\n",
        "        labels = labels.to(device)\n",
        "\n",
        "        # Forward pass\n",
        "        outputs = model(images)\n",
        "        loss = criterion(outputs, labels)\n",
        "\n",
        "        # Backward and optimize\n",
        "        optimizer.zero_grad()\n",
        "        loss.backward()\n",
        "        optimizer.step()\n",
        "\n",
        "        if (i+1) % 2000 == 0:\n",
        "            print (f'Epoch [{epoch+1}/{num_epochs}], Step [{i+1}/{n_total_steps}], Loss: {loss.item():.4f}')"
      ]
    },
    {
      "cell_type": "code",
      "execution_count": 14,
      "metadata": {
        "colab": {
          "base_uri": "https://localhost:8080/"
        },
        "id": "RGKdNh11jYxv",
        "outputId": "9d7c753a-3db6-4da6-f97d-51b47898759f"
      },
      "outputs": [
        {
          "name": "stdout",
          "output_type": "stream",
          "text": [
            "Finished Training\n"
          ]
        }
      ],
      "source": [
        "print('Finished Training')\n",
        "PATH = './cnn.pth'\n",
        "torch.save(model.state_dict(), PATH)"
      ]
    },
    {
      "cell_type": "code",
      "execution_count": 15,
      "metadata": {
        "colab": {
          "base_uri": "https://localhost:8080/"
        },
        "id": "BoEyTFAEjdff",
        "outputId": "9c4f00af-f04e-44b5-c06e-73d1f039f234"
      },
      "outputs": [
        {
          "name": "stdout",
          "output_type": "stream",
          "text": [
            "Accuracy of the network: 49.42 %\n",
            "Accuracy of plane: 55.2 %\n",
            "Accuracy of car: 70.0 %\n",
            "Accuracy of bird: 43.3 %\n",
            "Accuracy of cat: 21.0 %\n",
            "Accuracy of deer: 27.4 %\n",
            "Accuracy of dog: 55.1 %\n",
            "Accuracy of frog: 68.8 %\n",
            "Accuracy of horse: 48.5 %\n",
            "Accuracy of ship: 58.5 %\n",
            "Accuracy of truck: 46.4 %\n"
          ]
        }
      ],
      "source": [
        "y_true = []  # ground truth labels\n",
        "y_pred = []  # predicted labels\n",
        "with torch.no_grad():\n",
        "    n_correct = 0\n",
        "    n_samples = 0\n",
        "    n_class_correct = [0 for i in range(10)]\n",
        "    n_class_samples = [0 for i in range(10)]\n",
        "    for images, labels in test_loader:\n",
        "        images = images.to(device)\n",
        "        labels = labels.to(device)\n",
        "        outputs = model(images)\n",
        "        # max returns (value ,index)\n",
        "        _, predicted = torch.max(outputs, 1)\n",
        "        y_true.extend(labels.cpu().numpy())\n",
        "        y_pred.extend(predicted.cpu().numpy())\n",
        "        n_samples += labels.size(0)\n",
        "        n_correct += (predicted == labels).sum().item()\n",
        "\n",
        "        for i in range(batch_size):\n",
        "            label = labels[i]\n",
        "            pred = predicted[i]\n",
        "            if (label == pred):\n",
        "                n_class_correct[label] += 1\n",
        "            n_class_samples[label] += 1\n",
        "\n",
        "    acc = 100.0 * n_correct / n_samples\n",
        "    print(f'Accuracy of the network: {acc} %')\n",
        "\n",
        "    for i in range(10):\n",
        "        acc = 100.0 * n_class_correct[i] / n_class_samples[i]\n",
        "        print(f'Accuracy of {classes[i]}: {acc} %')"
      ]
    },
    {
      "cell_type": "code",
      "execution_count": 19,
      "metadata": {
        "colab": {
          "base_uri": "https://localhost:8080/"
        },
        "id": "XXiZZUlzlCT5",
        "outputId": "b63b13e9-fe65-4db7-af0c-e97d026623ab"
      },
      "outputs": [
        {
          "name": "stdout",
          "output_type": "stream",
          "text": [
            "Index 0 = plane\n",
            "Index 1 = car\n",
            "Index 2 = bird\n",
            "Index 3 = cat\n",
            "Index 4 = deer\n",
            "Index 5 = dog\n",
            "Index 6 = frog\n",
            "Index 7 = horse\n",
            "Index 8 = ship\n",
            "Index 9 = truck\n"
          ]
        }
      ],
      "source": [
        "for i in range(10):\n",
        "  print(f'Index {i} = {classes[i]}')"
      ]
    },
    {
      "cell_type": "code",
      "execution_count": 18,
      "metadata": {
        "colab": {
          "base_uri": "https://localhost:8080/"
        },
        "id": "JMkUpLW4j-Fe",
        "outputId": "88fac061-fbbf-437c-933e-8d72527c14c6"
      },
      "outputs": [
        {
          "name": "stdout",
          "output_type": "stream",
          "text": [
            "              precision    recall  f1-score   support\n",
            "\n",
            "           0       0.52      0.55      0.54      1000\n",
            "           1       0.56      0.70      0.62      1000\n",
            "           2       0.35      0.43      0.39      1000\n",
            "           3       0.39      0.21      0.27      1000\n",
            "           4       0.46      0.27      0.34      1000\n",
            "           5       0.41      0.55      0.47      1000\n",
            "           6       0.48      0.69      0.57      1000\n",
            "           7       0.67      0.48      0.56      1000\n",
            "           8       0.58      0.58      0.58      1000\n",
            "           9       0.57      0.46      0.51      1000\n",
            "\n",
            "    accuracy                           0.49     10000\n",
            "   macro avg       0.50      0.49      0.49     10000\n",
            "weighted avg       0.50      0.49      0.49     10000\n",
            "\n"
          ]
        }
      ],
      "source": [
        "print(classification_report(y_true, y_pred))"
      ]
    }
  ],
  "metadata": {
    "colab": {
      "provenance": []
    },
    "kernelspec": {
      "display_name": "Python 3",
      "name": "python3"
    },
    "language_info": {
      "name": "python"
    }
  },
  "nbformat": 4,
  "nbformat_minor": 0
}
